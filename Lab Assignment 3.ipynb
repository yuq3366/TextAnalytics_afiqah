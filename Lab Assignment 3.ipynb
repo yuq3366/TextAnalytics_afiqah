{
 "cells": [
  {
   "cell_type": "code",
   "execution_count": 1,
   "id": "4dc53220-979f-4b0c-87e8-c4eb7baddb7f",
   "metadata": {},
   "outputs": [],
   "source": [
    "# Import necessary libraries\n",
    "import pandas as pd\n",
    "import gensim\n",
    "from gensim import corpora\n",
    "from gensim.models import CoherenceModel\n",
    "import nltk\n",
    "from nltk.corpus import stopwords\n",
    "from nltk.tokenize import word_tokenize\n",
    "from nltk.stem import WordNetLemmatizer"
   ]
  },
  {
   "cell_type": "code",
   "execution_count": 3,
   "id": "747f3979-7fe0-4e5c-aad7-589f8f31e8e6",
   "metadata": {},
   "outputs": [
    {
     "name": "stderr",
     "output_type": "stream",
     "text": [
      "[nltk_data] Downloading package stopwords to\n",
      "[nltk_data]     C:\\Users\\Win10\\AppData\\Roaming\\nltk_data...\n",
      "[nltk_data]   Package stopwords is already up-to-date!\n",
      "[nltk_data] Downloading package punkt to\n",
      "[nltk_data]     C:\\Users\\Win10\\AppData\\Roaming\\nltk_data...\n",
      "[nltk_data]   Package punkt is already up-to-date!\n",
      "[nltk_data] Downloading package wordnet to\n",
      "[nltk_data]     C:\\Users\\Win10\\AppData\\Roaming\\nltk_data...\n",
      "[nltk_data]   Package wordnet is already up-to-date!\n"
     ]
    },
    {
     "data": {
      "text/plain": [
       "True"
      ]
     },
     "execution_count": 3,
     "metadata": {},
     "output_type": "execute_result"
    }
   ],
   "source": [
    "# Download NLTK resources\n",
    "nltk.download('stopwords')\n",
    "nltk.download('punkt')\n",
    "nltk.download('wordnet')"
   ]
  },
  {
   "cell_type": "code",
   "execution_count": 13,
   "id": "6fafe60f-d24f-41b9-bccd-41752741019d",
   "metadata": {},
   "outputs": [],
   "source": [
    "# Load dataset (use only the 'text' column)\n",
    "df = pd.read_csv(r\"C:\\Users\\Win10\\OneDrive\\Documents\\UNITEN\\Txt Analytics\\Lab Assignment 3\\news_dataset.csv\", usecols=['text'])\n",
    "df.dropna(inplace=True)  # Remove null values"
   ]
  },
  {
   "cell_type": "code",
   "execution_count": 15,
   "id": "3ad20139-f05b-4b08-aa76-15435f048388",
   "metadata": {},
   "outputs": [],
   "source": [
    "# Define text pre-processing function\n",
    "def preprocess_text(text):\n",
    "    stop_words = set(stopwords.words(\"english\"))\n",
    "    lemmatizer = WordNetLemmatizer()\n",
    "    \n",
    "    # Tokenization\n",
    "    tokens = word_tokenize(text.lower())\n",
    "    \n",
    "    # Remove stopwords & lemmatize\n",
    "    processed_tokens = [lemmatizer.lemmatize(word) for word in tokens if word.isalnum() and word not in stop_words]\n",
    "    \n",
    "    return processed_tokens"
   ]
  },
  {
   "cell_type": "code",
   "execution_count": 17,
   "id": "d09086c3-ccfa-4616-a9e3-4c67dda0a7de",
   "metadata": {},
   "outputs": [],
   "source": [
    "# Apply text pre-processing\n",
    "df['processed_text'] = df['text'].apply(preprocess_text)"
   ]
  },
  {
   "cell_type": "code",
   "execution_count": 24,
   "id": "e5942ad7-3434-452f-8ec5-6d25d3b9713c",
   "metadata": {},
   "outputs": [],
   "source": [
    "# Create dictionary & corpus for LDA\n",
    "dictionary = corpora.Dictionary(df['processed_text'])\n",
    "corpus = [dictionary.doc2bow(text) for text in df['processed_text'] if isinstance(text, list)]"
   ]
  },
  {
   "cell_type": "code",
   "execution_count": 26,
   "id": "7686b092-6eff-4504-8cc6-46f76707a010",
   "metadata": {},
   "outputs": [
    {
     "name": "stdout",
     "output_type": "stream",
     "text": [
      "0    [wondering, anyone, could, enlighten, car, saw...\n",
      "1    [recently, posted, article, asking, kind, rate...\n",
      "2    [depends, priority, lot, people, put, higher, ...\n",
      "3    [excellent, automatic, found, subaru, legacy, ...\n",
      "4    [ford, automobile, need, information, whether,...\n",
      "Name: processed_text, dtype: object\n"
     ]
    }
   ],
   "source": [
    "print(df['processed_text'].head())"
   ]
  },
  {
   "cell_type": "code",
   "execution_count": 28,
   "id": "9a60051d-63ac-4789-bcca-b5a92279d5ae",
   "metadata": {},
   "outputs": [],
   "source": [
    "corpus = [dictionary.doc2bow(text) for text in df['processed_text'].tolist()]"
   ]
  },
  {
   "cell_type": "code",
   "execution_count": 30,
   "id": "f3fa99d4-40ca-454b-927a-265e695e0279",
   "metadata": {},
   "outputs": [],
   "source": [
    "# Train LDA model\n",
    "lda_model = gensim.models.LdaModel(corpus, num_topics=4, id2word=dictionary, passes=15)"
   ]
  },
  {
   "cell_type": "code",
   "execution_count": 31,
   "id": "d6b47280-4377-439f-8e3d-bed04fa64bbe",
   "metadata": {},
   "outputs": [],
   "source": [
    "# Evaluate coherence score\n",
    "coherence_model = CoherenceModel(model=lda_model, texts=df['processed_text'], dictionary=dictionary, coherence='c_v')\n",
    "coherence_score = coherence_model.get_coherence()"
   ]
  },
  {
   "cell_type": "code",
   "execution_count": 32,
   "id": "240ab179-400d-45d4-bc75-ce1be4d81fd2",
   "metadata": {},
   "outputs": [
    {
     "name": "stdout",
     "output_type": "stream",
     "text": [
      "\n",
      "--- LDA Topic Model Results ---\n",
      "Topic 1: 0.021*\"key\" + 0.010*\"chip\" + 0.009*\"encryption\" + 0.007*\"government\" + 0.007*\"system\" + 0.007*\"clipper\" + 0.006*\"use\" + 0.006*\"information\" + 0.005*\"security\" + 0.005*\"public\"\n",
      "Topic 2: 0.040*\"1\" + 0.024*\"0\" + 0.020*\"2\" + 0.016*\"3\" + 0.016*\"db\" + 0.011*\"4\" + 0.010*\"5\" + 0.009*\"7\" + 0.009*\"x\" + 0.008*\"q\"\n",
      "Topic 3: 0.009*\"would\" + 0.008*\"one\" + 0.007*\"people\" + 0.005*\"think\" + 0.004*\"like\" + 0.004*\"know\" + 0.004*\"time\" + 0.004*\"say\" + 0.004*\"right\" + 0.004*\"year\"\n",
      "Topic 4: 0.007*\"one\" + 0.007*\"get\" + 0.006*\"would\" + 0.006*\"like\" + 0.006*\"use\" + 0.006*\"know\" + 0.005*\"window\" + 0.005*\"file\" + 0.004*\"problem\" + 0.004*\"work\"\n"
     ]
    }
   ],
   "source": [
    "# Display topics\n",
    "print(\"\\n--- LDA Topic Model Results ---\")\n",
    "for idx, topic in lda_model.show_topics(formatted=True):\n",
    "    print(f\"Topic {idx + 1}: {topic}\")"
   ]
  },
  {
   "cell_type": "code",
   "execution_count": 33,
   "id": "7c8513c5-948b-4d5a-9ee5-88a2eaea5f3a",
   "metadata": {},
   "outputs": [
    {
     "name": "stdout",
     "output_type": "stream",
     "text": [
      "\n",
      "--- Coherence Score ---\n",
      "Coherence Score: 0.6717\n"
     ]
    }
   ],
   "source": [
    "# Display coherence score\n",
    "print(f\"\\n--- Coherence Score ---\")\n",
    "print(f\"Coherence Score: {coherence_score:.4f}\")"
   ]
  },
  {
   "cell_type": "code",
   "execution_count": 34,
   "id": "da040c1c-164b-400b-b9ff-005bd6920024",
   "metadata": {},
   "outputs": [
    {
     "name": "stdout",
     "output_type": "stream",
     "text": [
      "\n",
      "--- Student Information ---\n",
      "Name: Nur Afiqah Najihah Binti Mohd Nasir\n",
      "Student ID: IS01083539\n"
     ]
    }
   ],
   "source": [
    "# Student details:\n",
    "print(\"\\n--- Student Information ---\")\n",
    "print(\"Name: Nur Afiqah Najihah Binti Mohd Nasir\")\n",
    "print(\"Student ID: IS01083539\")"
   ]
  },
  {
   "cell_type": "code",
   "execution_count": 35,
   "id": "19437848-b906-404b-9211-e8fc05c601df",
   "metadata": {},
   "outputs": [
    {
     "name": "stdout",
     "output_type": "stream",
     "text": [
      "\n",
      "--- Coherence Score Interpretation ---\n",
      "The coherence score measures the quality of the generated topics.\n",
      "A higher coherence score indicates that the words within each topic are more logically related, making interpretation easier.\n",
      "If the score is low, it suggests that topics might be inconsistent, requiring adjustments in preprocessing or the number of topics.\n"
     ]
    }
   ],
   "source": [
    "# Interpretation of coherence score:\n",
    "print(\"\\n--- Coherence Score Interpretation ---\")\n",
    "print(\"The coherence score measures the quality of the generated topics.\")\n",
    "print(\"A higher coherence score indicates that the words within each topic are more logically related, making interpretation easier.\")\n",
    "print(\"If the score is low, it suggests that topics might be inconsistent, requiring adjustments in preprocessing or the number of topics.\")"
   ]
  },
  {
   "cell_type": "code",
   "execution_count": null,
   "id": "44e4ca9c-b9dd-4837-9bf0-43934b84fcff",
   "metadata": {},
   "outputs": [],
   "source": []
  }
 ],
 "metadata": {
  "kernelspec": {
   "display_name": "Python [conda env:base] *",
   "language": "python",
   "name": "conda-base-py"
  },
  "language_info": {
   "codemirror_mode": {
    "name": "ipython",
    "version": 3
   },
   "file_extension": ".py",
   "mimetype": "text/x-python",
   "name": "python",
   "nbconvert_exporter": "python",
   "pygments_lexer": "ipython3",
   "version": "3.12.7"
  }
 },
 "nbformat": 4,
 "nbformat_minor": 5
}
