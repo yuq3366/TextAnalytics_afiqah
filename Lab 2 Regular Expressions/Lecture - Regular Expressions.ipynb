{
 "cells": [
  {
   "cell_type": "code",
   "execution_count": 9,
   "id": "db7c98e1",
   "metadata": {},
   "outputs": [],
   "source": [
    "import re"
   ]
  },
  {
   "cell_type": "markdown",
   "id": "112b08c9-04b3-4b79-9630-519378036dde",
   "metadata": {},
   "source": [
    "# Match specific characters"
   ]
  },
  {
   "attachments": {},
   "cell_type": "markdown",
   "id": "7953b93f-8db9-4674-89e9-a86022f00228",
   "metadata": {},
   "source": [
    "Search for character 'a','b' and 'c'"
   ]
  },
  {
   "cell_type": "code",
   "execution_count": 14,
   "id": "01754d59-ce53-45f4-b9cf-816940d4b362",
   "metadata": {},
   "outputs": [
    {
     "name": "stdout",
     "output_type": "stream",
     "text": [
      "Matches using [abc]: ['a', 'b', 'a', 'a', 'a', 'c', 'a', 'b', 'c']\n"
     ]
    }
   ],
   "source": [
    "text = \"apple, banana, cherry, abc, xyz\"\n",
    "\n",
    "#Method 1\n",
    "pattern1 = r\"[abc]\"\n",
    "matches1 = re.findall(pattern1, text)\n",
    "print(\"Matches using [abc]:\", matches1)"
   ]
  },
  {
   "cell_type": "code",
   "execution_count": 16,
   "id": "227734b3-d7ae-463c-99c6-2adadf542406",
   "metadata": {},
   "outputs": [
    {
     "name": "stdout",
     "output_type": "stream",
     "text": [
      "Matches using [a-c]: ['a', 'b', 'a', 'a', 'a', 'c', 'a', 'b', 'c']\n"
     ]
    }
   ],
   "source": [
    "#Method 2\n",
    "pattern2 = r\"[a-c]\"\n",
    "matches2 = re.findall(pattern2, text)\n",
    "print(\"Matches using [a-c]:\", matches2)"
   ]
  },
  {
   "attachments": {},
   "cell_type": "markdown",
   "id": "88f5f72a-1424-4857-aadc-8e8979df0c0a",
   "metadata": {},
   "source": [
    "Search for character 'a','b' and '*'"
   ]
  },
  {
   "cell_type": "code",
   "execution_count": 32,
   "id": "8c464545-5f36-4f31-9f47-3910f55c87e5",
   "metadata": {},
   "outputs": [
    {
     "name": "stdout",
     "output_type": "stream",
     "text": [
      "Matches using [ab\\*]: ['a', '*', 'b', 'a', 'b', 'a', 'b', '*']\n"
     ]
    }
   ],
   "source": [
    "text = \"a*b abc ab*\"\n",
    "\n",
    "pattern = r\"[ab\\*]\"\n",
    "matches = re.findall(pattern, text)\n",
    "print(\"Matches using [ab\\\\*]:\", matches)"
   ]
  },
  {
   "cell_type": "markdown",
   "id": "6877a407-9542-4f20-9052-526b8f348f26",
   "metadata": {},
   "source": [
    "# ^ Metacharacter - Complementary of the set"
   ]
  },
  {
   "cell_type": "code",
   "execution_count": 35,
   "id": "9364b41e-d6ac-4665-a888-ace7743427fc",
   "metadata": {},
   "outputs": [
    {
     "name": "stdout",
     "output_type": "stream",
     "text": [
      "Characters other than 'a': ['p', 'p', 'l', 'e', ' ', 'b', 'n', 'n', ' ', 'v', 'o', 'c', 'd', 'o']\n"
     ]
    }
   ],
   "source": [
    "text = \"apple banana avocado\"\n",
    "\n",
    "# Pattern to match all characters except 'a'\n",
    "pattern = r\"[^a]\"\n",
    "\n",
    "# Find all matches\n",
    "matches = re.findall(pattern, text)\n",
    "\n",
    "print(\"Characters other than 'a':\", matches)"
   ]
  },
  {
   "cell_type": "code",
   "execution_count": 37,
   "id": "c02c0a1a-c41b-467c-a5b7-ed9e90ba75d3",
   "metadata": {},
   "outputs": [
    {
     "name": "stdout",
     "output_type": "stream",
     "text": [
      "Characters 'a' or '^': ['a', '^', 'a', '^']\n"
     ]
    }
   ],
   "source": [
    "text = \"a ^ b a^c\"\n",
    "\n",
    "# Pattern to match either 'a' or '^'\n",
    "pattern = r\"[a^]\"\n",
    "\n",
    "# Find all matches\n",
    "matches = re.findall(pattern, text)\n",
    "\n",
    "print(\"Characters 'a' or '^':\", matches)"
   ]
  },
  {
   "cell_type": "markdown",
   "id": "5637509c-9c9c-4cec-8545-28394e31f498",
   "metadata": {},
   "source": [
    "# \\ Metacharacter"
   ]
  },
  {
   "cell_type": "code",
   "execution_count": 43,
   "id": "1bff5537-55d7-4980-9adf-6bbf86fafb29",
   "metadata": {},
   "outputs": [
    {
     "name": "stdout",
     "output_type": "stream",
     "text": [
      "Matches using \\d: ['1', '2', '3', '4', '5', '6', '7']\n",
      "Matches using [0-9]: ['1', '2', '3', '4', '5', '6', '7']\n"
     ]
    }
   ],
   "source": [
    "# Match any decimal digit\n",
    "text = \"Order 123, ID: 4567\"\n",
    "pattern1 = r\"\\d\"\n",
    "pattern2 = r\"[0-9]\"\n",
    "\n",
    "matches1 = re.findall(pattern1, text)\n",
    "matches2 = re.findall(pattern2, text)\n",
    "\n",
    "print(\"Matches using \\\\d:\", matches1)  \n",
    "print(\"Matches using [0-9]:\", matches2) "
   ]
  },
  {
   "cell_type": "code",
   "execution_count": 45,
   "id": "1331490e-d4ee-46a4-bd3f-420e4c6c3e8c",
   "metadata": {},
   "outputs": [
    {
     "name": "stdout",
     "output_type": "stream",
     "text": [
      "Matches using \\D: ['P', 'r', 'i', 'c', 'e', ':', ' ', '$']\n",
      "Matches using [^0-9]: ['P', 'r', 'i', 'c', 'e', ':', ' ', '$']\n"
     ]
    }
   ],
   "source": [
    "# Match any non-digit character\n",
    "text = \"Price: $50\"\n",
    "pattern1 = r\"\\D\"\n",
    "pattern2 = r\"[^0-9]\"\n",
    "\n",
    "matches1 = re.findall(pattern1, text)\n",
    "matches2 = re.findall(pattern2, text)\n",
    "\n",
    "print(\"Matches using \\\\D:\", matches1) \n",
    "print(\"Matches using [^0-9]:\", matches2)"
   ]
  },
  {
   "cell_type": "code",
   "execution_count": 47,
   "id": "3c6b1508-1acf-4ad0-aa00-19ee309e32f1",
   "metadata": {},
   "outputs": [
    {
     "name": "stdout",
     "output_type": "stream",
     "text": [
      "Matches using \\s: ['\\t', '\\n', ' ']\n",
      "Matches using [\\t\\n\\r\\f\\v]: ['\\t', '\\n']\n"
     ]
    }
   ],
   "source": [
    "# Match any whitespace character\n",
    "text = \"Hello\\tWorld\\nNew Line\"\n",
    "pattern1 = r\"\\s\"\n",
    "pattern2 = r\"[\\t\\n\\r\\f\\v]\"\n",
    "\n",
    "matches1 = re.findall(pattern1, text)\n",
    "matches2 = re.findall(pattern2, text)\n",
    "\n",
    "print(\"Matches using \\\\s:\", matches1)\n",
    "print(\"Matches using [\\\\t\\\\n\\\\r\\\\f\\\\v]:\", matches2)"
   ]
  },
  {
   "cell_type": "code",
   "execution_count": 49,
   "id": "17e857e4-dd61-4ba1-918c-a20c58cfc1ff",
   "metadata": {},
   "outputs": [
    {
     "name": "stdout",
     "output_type": "stream",
     "text": [
      "Matches using \\S: ['P', 'y', 't', 'h', 'o', 'n', '3', '.', '9', 'i', 's', 'a', 'w', 'e', 's', 'o', 'm', 'e', '!']\n",
      "Matches using [^\\t\\n\\r\\f\\v]: ['P', 'y', 't', 'h', 'o', 'n', ' ', '3', '.', '9', 'i', 's', 'a', 'w', 'e', 's', 'o', 'm', 'e', '!']\n"
     ]
    }
   ],
   "source": [
    "# Match any non-whitespace character\n",
    "text = \"Python 3.9\\tis\\nawesome!\"\n",
    "pattern1 = r\"\\S\"\n",
    "pattern2 = r\"[^\\t\\n\\r\\f\\v]\"\n",
    "\n",
    "matches1 = re.findall(pattern1, text)\n",
    "matches2 = re.findall(pattern2, text)\n",
    "\n",
    "print(\"Matches using \\\\S:\", matches1)\n",
    "print(\"Matches using [^\\\\t\\\\n\\\\r\\\\f\\\\v]:\", matches2)"
   ]
  },
  {
   "cell_type": "code",
   "execution_count": 51,
   "id": "0be13199-fc1a-45da-b0ff-4d69a0c2a939",
   "metadata": {},
   "outputs": [
    {
     "name": "stdout",
     "output_type": "stream",
     "text": [
      "Matches using \\w: ['H', 'e', 'l', 'l', 'o', '_', '1', '2', '3']\n",
      "Matches using [a-zA-Z0-9_]: ['H', 'e', 'l', 'l', 'o', '_', '1', '2', '3']\n"
     ]
    }
   ],
   "source": [
    "# Match any alphanumeric character\n",
    "text = \"Hello_123!\"\n",
    "pattern1 = r\"\\w\"\n",
    "pattern2 = r\"[a-zA-Z0-9_]\"\n",
    "\n",
    "matches1 = re.findall(pattern1, text)\n",
    "matches2 = re.findall(pattern2, text)\n",
    "\n",
    "print(\"Matches using \\\\w:\", matches1)\n",
    "print(\"Matches using [a-zA-Z0-9_]:\", matches2)"
   ]
  },
  {
   "cell_type": "code",
   "execution_count": 53,
   "id": "57abdbbc-7387-4325-9f61-ade2e0fc4b24",
   "metadata": {},
   "outputs": [
    {
     "name": "stdout",
     "output_type": "stream",
     "text": [
      "Matches using \\W: [',', ' ', '!', ' ', '.']\n",
      "Matches using [^a-zA-Z0-9_]: [',', ' ', '!', ' ', '.']\n"
     ]
    }
   ],
   "source": [
    "# Match any non-alphanumeric character\n",
    "text = \"Hello, World! 2024.\"\n",
    "pattern1 = r\"\\W\"\n",
    "pattern2 = r\"[^a-zA-Z0-9_]\"\n",
    "\n",
    "matches1 = re.findall(pattern1, text)\n",
    "matches2 = re.findall(pattern2, text)\n",
    "\n",
    "print(\"Matches using \\\\W:\", matches1)\n",
    "print(\"Matches using [^a-zA-Z0-9_]:\", matches2)"
   ]
  },
  {
   "cell_type": "markdown",
   "id": "ab4657bd",
   "metadata": {},
   "source": [
    "# * asterisk/star metacharacter"
   ]
  },
  {
   "cell_type": "code",
   "execution_count": 6,
   "id": "fe5378d7",
   "metadata": {},
   "outputs": [
    {
     "name": "stdout",
     "output_type": "stream",
     "text": [
      "['8', '23', '886', '4567', '78453']\n"
     ]
    }
   ],
   "source": [
    "str1 = \"Numbers are 8,23, 886, 4567, 78453\" \n",
    "# asterisk sign(*) to match 0 or more repetitions \n",
    "\n",
    "result = re.findall(r\"\\d\\d*\", str1) \n",
    "print(result) "
   ]
  },
  {
   "cell_type": "markdown",
   "id": "bbe794ff",
   "metadata": {},
   "source": [
    "# + Plus metacharacter"
   ]
  },
  {
   "cell_type": "code",
   "execution_count": 7,
   "id": "d2bd3260",
   "metadata": {},
   "outputs": [
    {
     "name": "stdout",
     "output_type": "stream",
     "text": [
      "['23', '886', '4567', '78453']\n"
     ]
    }
   ],
   "source": [
    "str2 = \"Numbers are 8,23, 886, 4567, 78453\"\n",
    "# Plus sign(+) to match 1 or more repetitions\n",
    "\n",
    "result2 = re.findall(r\"\\d\\d+\", str1)\n",
    "print(result2)\n"
   ]
  },
  {
   "attachments": {},
   "cell_type": "markdown",
   "id": "a1bcce71",
   "metadata": {},
   "source": [
    "# Metacharacter    *   and    +\n",
    "* Used to match either zero, one or many occurrences\n",
    "+ Used to match either one or many occurrences"
   ]
  },
  {
   "cell_type": "code",
   "execution_count": 8,
   "id": "06f650e2",
   "metadata": {},
   "outputs": [
    {
     "name": "stdout",
     "output_type": "stream",
     "text": [
      "['ct', 'cat']\n",
      "['cat']\n"
     ]
    }
   ],
   "source": [
    "str3 = \"ct likes cat\"\n",
    "\n",
    "result3 = re.findall('ca*t', str3)\n",
    "print(result3)\n",
    "\n",
    "result4 = re.findall('ca+t', str3)\n",
    "print(result4)"
   ]
  },
  {
   "attachments": {},
   "cell_type": "markdown",
   "id": "e2c9b290",
   "metadata": {},
   "source": [
    "# Metacharacter    ?\n",
    "Used to match either one or zero occurrence"
   ]
  },
  {
   "cell_type": "code",
   "execution_count": 9,
   "id": "53662886",
   "metadata": {},
   "outputs": [
    {
     "name": "stdout",
     "output_type": "stream",
     "text": [
      "['copy-', 'copy']\n"
     ]
    }
   ],
   "source": [
    "str4 = \"poppy likes to copy-cat. bobby likes to copy things.\"\n",
    "\n",
    "result5 = re.findall('copy-?', str4)\n",
    "print(result5)"
   ]
  },
  {
   "attachments": {},
   "cell_type": "markdown",
   "id": "c17043ca",
   "metadata": {},
   "source": [
    "# Metacharacter  { }\n",
    "Used to match the occurences based on the specified min and max values"
   ]
  },
  {
   "cell_type": "code",
   "execution_count": 12,
   "id": "78beb738",
   "metadata": {},
   "outputs": [
    {
     "name": "stdout",
     "output_type": "stream",
     "text": [
      "['bok', 'book', 'boook']\n"
     ]
    }
   ],
   "source": [
    "str5 = \"poppy likes to read boks. bobby likes to read books. ronnie likes to read boooks. they all love booooooks\"\n",
    "\n",
    "result6 = re.findall('bo{1,3}k', str5)\n",
    "print(result6)\n",
    "                    "
   ]
  }
 ],
 "metadata": {
  "kernelspec": {
   "display_name": "Python 3 (ipykernel)",
   "language": "python",
   "name": "python3"
  },
  "language_info": {
   "codemirror_mode": {
    "name": "ipython",
    "version": 3
   },
   "file_extension": ".py",
   "mimetype": "text/x-python",
   "name": "python",
   "nbconvert_exporter": "python",
   "pygments_lexer": "ipython3",
   "version": "3.12.4"
  }
 },
 "nbformat": 4,
 "nbformat_minor": 5
}
