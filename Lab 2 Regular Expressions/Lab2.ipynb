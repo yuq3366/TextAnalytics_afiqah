{
 "cells": [
  {
   "cell_type": "code",
   "execution_count": 1,
   "id": "f5e9ff17-332f-42f8-a8f1-2e046d81f3bb",
   "metadata": {},
   "outputs": [],
   "source": [
    "#importing regular expression library  \n",
    "import re  \n"
   ]
  },
  {
   "cell_type": "code",
   "execution_count": 3,
   "id": "0af47148-e7eb-4eca-9ea8-3a9b632a2c2f",
   "metadata": {},
   "outputs": [
    {
     "name": "stdout",
     "output_type": "stream",
     "text": [
      "<re.Match object; span=(0, 1), match='I'>\n"
     ]
    }
   ],
   "source": [
    "#using re.match  \n",
    "#to find the first occurrence of the letter 'I' in the string \n",
    "\n",
    "sentence1 = re.match (r'I', 'I am learning text analytics')  \n",
    "print (sentence1) "
   ]
  },
  {
   "cell_type": "code",
   "execution_count": 5,
   "id": "b2600103-e329-47cd-b686-15a1f6b05008",
   "metadata": {},
   "outputs": [
    {
     "name": "stdout",
     "output_type": "stream",
     "text": [
      "None\n"
     ]
    }
   ],
   "source": [
    "#using re.match  \n",
    "#to find the first occurrence of the letter 'v' in the string  \n",
    "\n",
    "sentence2 = re.match (r'v', 'I am learning text analytics')  \n",
    "print (sentence2)  "
   ]
  },
  {
   "cell_type": "code",
   "execution_count": 7,
   "id": "89c279ab-01b8-4ed2-b1ce-4b0f4487034d",
   "metadata": {},
   "outputs": [
    {
     "ename": "NameError",
     "evalue": "name 'string' is not defined",
     "output_type": "error",
     "traceback": [
      "\u001b[1;31m---------------------------------------------------------------------------\u001b[0m",
      "\u001b[1;31mNameError\u001b[0m                                 Traceback (most recent call last)",
      "Cell \u001b[1;32mIn[7], line 4\u001b[0m\n\u001b[0;32m      1\u001b[0m \u001b[38;5;66;03m#using re.match  \u001b[39;00m\n\u001b[0;32m      2\u001b[0m \u001b[38;5;66;03m#to find the first occurrence of the letter 'am' in the \u001b[39;00m\n\u001b[1;32m----> 4\u001b[0m string  \n\u001b[0;32m      5\u001b[0m sentence3 \u001b[38;5;241m=\u001b[39m re\u001b[38;5;241m.\u001b[39mmatch (\u001b[38;5;124mr\u001b[39m\u001b[38;5;124m'\u001b[39m\u001b[38;5;124mam\u001b[39m\u001b[38;5;124m'\u001b[39m, \u001b[38;5;124m'\u001b[39m\u001b[38;5;124mI am learning text analytics\u001b[39m\u001b[38;5;124m'\u001b[39m)  \n\u001b[0;32m      6\u001b[0m \u001b[38;5;28mprint\u001b[39m (sentence3)\n",
      "\u001b[1;31mNameError\u001b[0m: name 'string' is not defined"
     ]
    }
   ],
   "source": [
    "#using re.match  \n",
    "#to find the first occurrence of the letter 'am' in the \n",
    "\n",
    "string  \n",
    "sentence3 = re.match (r'am', 'I am learning text analytics')  \n",
    "print (sentence3)  "
   ]
  },
  {
   "cell_type": "code",
   "execution_count": 9,
   "id": "61d64208-24e4-4869-952c-c6ecbd6051ca",
   "metadata": {},
   "outputs": [
    {
     "ename": "NameError",
     "evalue": "name 'string' is not defined",
     "output_type": "error",
     "traceback": [
      "\u001b[1;31m---------------------------------------------------------------------------\u001b[0m",
      "\u001b[1;31mNameError\u001b[0m                                 Traceback (most recent call last)",
      "Cell \u001b[1;32mIn[9], line 3\u001b[0m\n\u001b[0;32m      1\u001b[0m \u001b[38;5;66;03m#using re.match  \u001b[39;00m\n\u001b[0;32m      2\u001b[0m \u001b[38;5;66;03m#to find the first occurrence of the letter 'am' in the \u001b[39;00m\n\u001b[1;32m----> 3\u001b[0m string  \n\u001b[0;32m      4\u001b[0m sentence3 \u001b[38;5;241m=\u001b[39m re\u001b[38;5;241m.\u001b[39mmatch (\u001b[38;5;124mr\u001b[39m\u001b[38;5;124m'\u001b[39m\u001b[38;5;124mam\u001b[39m\u001b[38;5;124m'\u001b[39m, \u001b[38;5;124m'\u001b[39m\u001b[38;5;124mI am learning text analytics\u001b[39m\u001b[38;5;124m'\u001b[39m)  \n\u001b[0;32m      5\u001b[0m \u001b[38;5;28mprint\u001b[39m (sentence3)\n",
      "\u001b[1;31mNameError\u001b[0m: name 'string' is not defined"
     ]
    }
   ],
   "source": [
    "#using re.match  \n",
    "#to find the first occurrence of the letter 'am' in the \n",
    "string  \n",
    "sentence3 = re.match (r'am', 'I am learning text analytics')  \n",
    "print (sentence3)  "
   ]
  },
  {
   "cell_type": "code",
   "execution_count": 11,
   "id": "f994b974-47a5-4fac-af25-6f9bdc6d1daf",
   "metadata": {},
   "outputs": [
    {
     "name": "stdout",
     "output_type": "stream",
     "text": [
      "None\n"
     ]
    }
   ],
   "source": [
    "#using re.match  \n",
    "#to find the first occurrence of the letter 'am' in the string  \n",
    "sentence3 = re.match (r'am', 'I am learning text analytics')  \n",
    "print (sentence3)  "
   ]
  },
  {
   "cell_type": "code",
   "execution_count": 13,
   "id": "34344795-e851-4e9e-ada9-1f6a75dfb53d",
   "metadata": {},
   "outputs": [
    {
     "name": "stdout",
     "output_type": "stream",
     "text": [
      "<re.Match object; span=(2, 4), match='am'>\n"
     ]
    }
   ],
   "source": [
    "sentence4 = re.search(r'am', 'I am learning text analytics')  \n",
    "print (sentence4)   "
   ]
  },
  {
   "cell_type": "code",
   "execution_count": 15,
   "id": "8b832be8-f774-4f6d-a2e7-cda571e0027f",
   "metadata": {},
   "outputs": [
    {
     "ename": "SyntaxError",
     "evalue": "unterminated string literal (detected at line 1) (776698216.py, line 1)",
     "output_type": "error",
     "traceback": [
      "\u001b[1;36m  Cell \u001b[1;32mIn[15], line 1\u001b[1;36m\u001b[0m\n\u001b[1;33m    sentence5 = re.search(r'am', 'I am learning text analytics\u001b[0m\n\u001b[1;37m                                 ^\u001b[0m\n\u001b[1;31mSyntaxError\u001b[0m\u001b[1;31m:\u001b[0m unterminated string literal (detected at line 1)\n"
     ]
    }
   ],
   "source": [
    "sentence5 = re.search(r'am', 'I am learning text analytics \n",
    "and am enjoying it')   \n",
    "print (sentence5) "
   ]
  },
  {
   "cell_type": "code",
   "execution_count": 17,
   "id": "b65b67db-5ead-4ede-a2ae-64b56833dcf7",
   "metadata": {},
   "outputs": [
    {
     "name": "stdout",
     "output_type": "stream",
     "text": [
      "<re.Match object; span=(2, 4), match='am'>\n"
     ]
    }
   ],
   "source": [
    "sentence5 = re.search(r'am', 'I am learning text analytics and am enjoying it')   \n",
    "print (sentence5) "
   ]
  },
  {
   "cell_type": "code",
   "execution_count": 19,
   "id": "799ca43a-d05c-41ee-ba89-0028f5aa7a91",
   "metadata": {},
   "outputs": [
    {
     "name": "stdout",
     "output_type": "stream",
     "text": [
      "['am', 'am']\n"
     ]
    }
   ],
   "source": [
    "sentence6 = re.findall(r'am', 'I am learning text analytics and am enjoying it')   \n",
    "print (sentence6)  "
   ]
  },
  {
   "cell_type": "code",
   "execution_count": 21,
   "id": "21fc883e-d6a5-4992-95b2-da233020f56f",
   "metadata": {},
   "outputs": [
    {
     "name": "stdout",
     "output_type": "stream",
     "text": [
      "['I am learning text analytics ', ' am enjoying it']\n"
     ]
    }
   ],
   "source": [
    "sentence7 = re.split(r'and', 'I am learning text analytics and am enjoying it')   \n",
    "print (sentence7)   "
   ]
  },
  {
   "cell_type": "code",
   "execution_count": 23,
   "id": "240a39fd-0c4d-4585-a137-b1918dfc2c6b",
   "metadata": {},
   "outputs": [
    {
     "name": "stdout",
     "output_type": "stream",
     "text": [
      "['I ', ' learning text analytics and ', ' enjoying it']\n"
     ]
    }
   ],
   "source": [
    "sentence8 = re.split(r'am', 'I am learning text analytics and am enjoying it')   \n",
    "print (sentence8)   "
   ]
  },
  {
   "cell_type": "code",
   "execution_count": 25,
   "id": "60ffd717-a4bb-4bff-be51-43b6d569b95c",
   "metadata": {},
   "outputs": [
    {
     "name": "stdout",
     "output_type": "stream",
     "text": [
      "['I ', ' learning text analytics and am enjoying it']\n"
     ]
    }
   ],
   "source": [
    "sentence9 = re.split(r'am', 'I am learning text analytics and am enjoying it', maxsplit=1)  \n",
    "print (sentence9)  "
   ]
  },
  {
   "cell_type": "code",
   "execution_count": 27,
   "id": "1e7a8cf8-1c25-4b89-8bb2-864bbdaae151",
   "metadata": {},
   "outputs": [
    {
     "name": "stdout",
     "output_type": "stream",
     "text": [
      "['I ', ' learning text analytics and ', ' enjoying it']\n"
     ]
    }
   ],
   "source": [
    "sentence9 = re.split(r'am', 'I am learning text analytics and am enjoying it', maxsplit=2)  \n",
    "print (sentence9)  "
   ]
  },
  {
   "cell_type": "code",
   "execution_count": 29,
   "id": "d8a974e6-b3fd-45ef-913e-3c0d052b0ade",
   "metadata": {},
   "outputs": [
    {
     "name": "stdout",
     "output_type": "stream",
     "text": [
      "['I ', ' learning text analytics, I ', ' enjoying it and I ', ' going to ace it']\n"
     ]
    }
   ],
   "source": [
    "sentence10 = re.split(r'am', 'I am learning text analytics, I am enjoying it and I am going to ace it', maxsplit=3)  \n",
    "print (sentence10)  "
   ]
  },
  {
   "cell_type": "code",
   "execution_count": 31,
   "id": "e22c32f2-f9ed-4a10-a5d7-89583cf30fca",
   "metadata": {},
   "outputs": [
    {
     "name": "stdout",
     "output_type": "stream",
     "text": [
      "we like text analytics and we enjoy learning it\n"
     ]
    }
   ],
   "source": [
    "sentence11 = re.sub(r'I', 'we', 'I like text analytics and I enjoy learning it')  \n",
    "print (sentence11)   "
   ]
  },
  {
   "cell_type": "code",
   "execution_count": 33,
   "id": "e2edf6e8-f2c0-4bf1-aa92-ccaa2d5b0970",
   "metadata": {},
   "outputs": [
    {
     "name": "stdout",
     "output_type": "stream",
     "text": [
      "['I', ' ', 'a', 'm', ' ', 'l', 'e', 'a', 'r', 'n', 'i', 'n', 'g', ' ', 't', 'e', 'x', 't', ' ', 'a', 'n', 'a', 'l', 'y', 't', 'i', 'c', 's']\n"
     ]
    }
   ],
   "source": [
    "sentence1 = re.findall (r'.', 'I am learning text analytics')  \n",
    "print (sentence1)  \n",
    "# Each letter is selected including spaces  "
   ]
  },
  {
   "cell_type": "code",
   "execution_count": 35,
   "id": "3fbe4223-27f3-4ef8-9c8a-f54cd4a742fb",
   "metadata": {},
   "outputs": [
    {
     "name": "stdout",
     "output_type": "stream",
     "text": [
      "['I', 'a', 'm', 'l', 'e', 'a', 'r', 'n', 'i', 'n', 'g', 't', 'e', 'x', 't', 'a', 'n', 'a', 'l', 'y', 't', 'i', 'c', 's']\n"
     ]
    }
   ],
   "source": [
    "sentence2 = re.findall (r'\\w', 'I am learning text analytics') \n",
    "print (sentence2)  \n",
    "# Each letter is selected excluding spaces  "
   ]
  },
  {
   "cell_type": "code",
   "execution_count": 37,
   "id": "9447e84e-8022-440f-89f1-26b322cb94eb",
   "metadata": {},
   "outputs": [
    {
     "name": "stdout",
     "output_type": "stream",
     "text": [
      "['I', '', 'am', '', 'learning', '', 'text', '', 'analytics', '']\n"
     ]
    }
   ],
   "source": [
    "sentence3 = re.findall (r'\\w*', 'I am learning text analytics')  \n",
    "print (sentence3)  \n",
    "# Each word is selected including spaces "
   ]
  },
  {
   "cell_type": "code",
   "execution_count": 39,
   "id": "234ead3b-a827-4138-a650-c74c1006173e",
   "metadata": {},
   "outputs": [
    {
     "name": "stdout",
     "output_type": "stream",
     "text": [
      "['I', 'am', 'learning', 'text', 'analytics']\n"
     ]
    }
   ],
   "source": [
    "sentence4 = re.findall (r'\\w+', 'I am learning text analytics')  \n",
    "print (sentence4)  \n",
    "# Each word is selected excluding spaces  "
   ]
  },
  {
   "cell_type": "code",
   "execution_count": 41,
   "id": "3c0bd287-87f0-4b65-acee-b3e022304f23",
   "metadata": {},
   "outputs": [
    {
     "name": "stdout",
     "output_type": "stream",
     "text": [
      "['I']\n"
     ]
    }
   ],
   "source": [
    "sentence5 = re.findall (r'^\\w+', 'I am learning text analytics')  \n",
    "print (sentence5)  \n",
    "# First word is selected  "
   ]
  },
  {
   "cell_type": "code",
   "execution_count": 43,
   "id": "a18851a2-e4da-44c7-b26c-998428e0e61d",
   "metadata": {},
   "outputs": [
    {
     "name": "stdout",
     "output_type": "stream",
     "text": [
      "['analytics']\n"
     ]
    }
   ],
   "source": [
    "sentence6 = re.findall (r'\\w+$', 'I am learning text analytics')  \n",
    "print (sentence6)  \n",
    "# Last word is selected   "
   ]
  },
  {
   "cell_type": "code",
   "execution_count": 45,
   "id": "e57b370f-5322-4f82-856a-f2478a150b02",
   "metadata": {},
   "outputs": [
    {
     "name": "stdout",
     "output_type": "stream",
     "text": [
      "['am', 'le', 'ar', 'ni', 'ng', 'te', 'xt', 'an', 'al', 'yt', 'ic']\n"
     ]
    }
   ],
   "source": [
    "sentence7 = re.findall (r'\\w\\w', 'I am learning text analytics')  \n",
    "print (sentence7)  \n",
    "# 2 consecutive characters are selected  "
   ]
  },
  {
   "cell_type": "code",
   "execution_count": 47,
   "id": "f898b582-3775-4208-a133-b1c3d74f4877",
   "metadata": {},
   "outputs": [
    {
     "name": "stdout",
     "output_type": "stream",
     "text": [
      "['am', 'le', 'te', 'an']\n"
     ]
    }
   ],
   "source": [
    "sentence8 = re.findall (r'\\b\\w\\w', 'I am learning text analytics')  \n",
    "print (sentence8)"
   ]
  },
  {
   "cell_type": "code",
   "execution_count": 49,
   "id": "e1676c84-8b3b-41bf-b8f0-81de09508421",
   "metadata": {},
   "outputs": [
    {
     "name": "stdout",
     "output_type": "stream",
     "text": [
      "['@text', '@analytics', '@textanalytics']\n"
     ]
    }
   ],
   "source": [
    "sentence9 = re.findall (r'@\\w+', 'user@text.com.my, user@analytics.gov.my, user@textanalytics.edu.my') \n",
    "print (sentence9)  \n",
    "# Only the first word in the domain name is selected  "
   ]
  },
  {
   "cell_type": "code",
   "execution_count": 51,
   "id": "61da42d9-af3c-4d8b-8733-176a74d8a72d",
   "metadata": {},
   "outputs": [
    {
     "name": "stdout",
     "output_type": "stream",
     "text": [
      "['@text.com', '@analytics.gov', '@textanalytics.edu']\n"
     ]
    },
    {
     "data": {
      "text/plain": [
       "['@text.com', '@analytics.gov', '@textanalytics.edu']"
      ]
     },
     "execution_count": 51,
     "metadata": {},
     "output_type": "execute_result"
    }
   ],
   "source": [
    "sentence10 = re.findall (r'@\\w+.\\w+','user@text.com.my, user@analytics.gov.my, user@textanalytics.edu.my') \n",
    "print (sentence10) \n",
    "['@text.com', '@analytics.gov', '@textanalytics.edu'] "
   ]
  },
  {
   "cell_type": "code",
   "execution_count": 53,
   "id": "4b7945dd-044c-40aa-8563-85da98cc7337",
   "metadata": {},
   "outputs": [
    {
     "name": "stdout",
     "output_type": "stream",
     "text": [
      "['@text.com.my', '@analytics.gov.my', '@textanalytics.edu.my']\n"
     ]
    }
   ],
   "source": [
    "sentence11 = re.findall (r'@\\w+.\\w+.\\w+', 'user@text.com.my, user@analytics.gov.my, user@textanalytics.edu.my') \n",
    "print (sentence11)  \n",
    "# The full domain name is selected"
   ]
  },
  {
   "cell_type": "code",
   "execution_count": 55,
   "id": "4db8709c-cd09-4dca-9c1d-bf26ec5a0e63",
   "metadata": {},
   "outputs": [
    {
     "ename": "SyntaxError",
     "evalue": "unterminated string literal (detected at line 1) (2403996122.py, line 1)",
     "output_type": "error",
     "traceback": [
      "\u001b[1;36m  Cell \u001b[1;32mIn[55], line 1\u001b[1;36m\u001b[0m\n\u001b[1;33m    sentence12 = re.findall (r'@\\w+.(\\w+.\\w+)', 'user@text.com.my, user@analytics.gov.my, u\u001b[0m\n\u001b[1;37m                                                ^\u001b[0m\n\u001b[1;31mSyntaxError\u001b[0m\u001b[1;31m:\u001b[0m unterminated string literal (detected at line 1)\n"
     ]
    }
   ],
   "source": [
    "sentence12 = re.findall (r'@\\w+.(\\w+.\\w+)', 'user@text.com.my, user@analytics.gov.my, u  \n",
    "print (sentence12 )\n",
    "# To display the type of domain  "
   ]
  },
  {
   "cell_type": "code",
   "execution_count": 57,
   "id": "4bea48c4-bc05-496d-891a-c55341f1c07b",
   "metadata": {},
   "outputs": [
    {
     "name": "stdout",
     "output_type": "stream",
     "text": [
      "['com.my', 'gov.my']\n"
     ]
    }
   ],
   "source": [
    "#solution\n",
    "sentence12 = re.findall (r'@\\w+.(\\w+.\\w+)', 'user@text.com.my, user@analytics.gov.my, u')  \n",
    "print (sentence12)\n",
    "# To display the type of domain  "
   ]
  },
  {
   "cell_type": "code",
   "execution_count": 59,
   "id": "2f171fc4-14b8-4bf8-afa7-384728f7ed72",
   "metadata": {},
   "outputs": [
    {
     "name": "stdout",
     "output_type": "stream",
     "text": [
      "['15-05-20', '20-08-20']\n"
     ]
    }
   ],
   "source": [
    "sentence13 = re.findall (r'\\d{2}-\\d{2}-\\d{2}', 'Ahmad BIT(IS) 15-05-2001, Johnny BCS(SE) 20-08-2000') \n",
    "\n",
    "print (sentence13)  \n",
    "# To display the date in the format of dd-mm-yy  "
   ]
  },
  {
   "cell_type": "code",
   "execution_count": 61,
   "id": "d5117829-b73a-4a84-8e52-b7a3c04af2e4",
   "metadata": {},
   "outputs": [
    {
     "name": "stdout",
     "output_type": "stream",
     "text": [
      "['15-05-2001', '20-08-2000']\n"
     ]
    }
   ],
   "source": [
    "sentence14 = re.findall (r'\\d{2}-\\d{2}-\\d{4}', 'Ahmad BIT(IS) 15-05-2001, Johnny BCS(SE) 20-08-2000') \n",
    "print (sentence14)  \n",
    "# To display the date in the format of dd-mm-yyyy  "
   ]
  },
  {
   "cell_type": "code",
   "execution_count": 63,
   "id": "44ff6781-aa4c-4584-a20d-7d24660c5003",
   "metadata": {},
   "outputs": [
    {
     "name": "stdout",
     "output_type": "stream",
     "text": [
      "['2001', '2000']\n"
     ]
    }
   ],
   "source": [
    "sentence15 = re.findall (r'\\d{2}-\\d{2}-(\\d{4})', 'Ahmad BIT(IS) 15-05-2001, Johnny BCS(SE) 20-08-2000') \n",
    "print (sentence15)  \n",
    "# Only the year will be displayed  "
   ]
  },
  {
   "cell_type": "code",
   "execution_count": 65,
   "id": "0a785ded-14d1-4ff1-9894-f0e640bb58db",
   "metadata": {},
   "outputs": [
    {
     "name": "stdout",
     "output_type": "stream",
     "text": [
      "['ave', 'eight', 'ory', 'ooks', 'often', 'ead', 'em', 'in', 'afternoon']\n"
     ]
    }
   ],
   "source": [
    "sentence16 = re.findall (r'[aeiouAEIOU]\\w+', 'I have eight story books. I often read them in afternoon') \n",
    "print (sentence16) \n",
    "# A sequence that starts with a vowel followed by one o rmore characters are selected "
   ]
  },
  {
   "cell_type": "code",
   "execution_count": 67,
   "id": "69716d3e-d0f5-4a15-b97f-8df8c4de6af3",
   "metadata": {},
   "outputs": [
    {
     "name": "stdout",
     "output_type": "stream",
     "text": [
      "['eight', 'often', 'in', 'afternoon']\n"
     ]
    }
   ],
   "source": [
    "sentence17 = re.findall (r'\\b[aeiouAEIOU]\\w+', 'I have eight story books. I often read them in afternoon') \n",
    "print (sentence17)  \n",
    "# Only words that start with vowels are selected "
   ]
  },
  {
   "cell_type": "code",
   "execution_count": 69,
   "id": "d604106b-3aec-4581-afae-dd88b3026978",
   "metadata": {},
   "outputs": [
    {
     "name": "stdout",
     "output_type": "stream",
     "text": [
      "['have', 'story', 'books', 'read', 'them']\n"
     ]
    }
   ],
   "source": [
    "sentence18 = re.findall (r'\\b[^aeiouAEIOU\\s]\\w+', 'I have eight story books. I often read them in afternoon') \n",
    "print (sentence18)  \n",
    "# Only words that start with non-vowels are selected  "
   ]
  },
  {
   "cell_type": "code",
   "execution_count": 71,
   "id": "eb9b3279-f317-4508-8395-a01db905f186",
   "metadata": {},
   "outputs": [
    {
     "name": "stdout",
     "output_type": "stream",
     "text": [
      "['I have many story books', ' colouring books', ' I often read them in the afternoon.']\n"
     ]
    }
   ],
   "source": [
    "sentence19 = re.split (r'[;,]', 'I have many story books, colouring books; I often read them in the afternoon.') \n",
    "print (sentence19)  \n",
    "# split the words based on the delimiters semi colon and comma"
   ]
  },
  {
   "cell_type": "code",
   "execution_count": 73,
   "id": "6b47e704-8c34-4bb0-b86e-93539ee6fe57",
   "metadata": {},
   "outputs": [
    {
     "name": "stdout",
     "output_type": "stream",
     "text": [
      "['I', 'have', 'many', 'story', 'books', '', 'colouring', 'books', '', 'I', 'often', 'read', 'them', 'in', 'the', 'afternoon.']\n"
     ]
    }
   ],
   "source": [
    "sentence20 = re.split (r'[;,\\s]', 'I have many story books, colouring books; I often read them in the afternoon.') \n",
    "print (sentence20)  \n",
    "# split the words based on the delimiters semi colon, comma and space "
   ]
  },
  {
   "cell_type": "code",
   "execution_count": 75,
   "id": "1fb58886-92ab-4cf6-bac1-4f5d407023c5",
   "metadata": {},
   "outputs": [
    {
     "name": "stdout",
     "output_type": "stream",
     "text": [
      "I have many story books. colouring books. I often read them in the afternoon.\n"
     ]
    }
   ],
   "source": [
    "sentence21 = re.sub (r'[;,]', '.', 'I have many story books, colouring books; I often read them in the afternoon.') \n",
    "print (sentence21)  \n",
    "# Substitute the delimiters semi colon and comma with fullstop "
   ]
  },
  {
   "cell_type": "code",
   "execution_count": 77,
   "id": "3c8db8ad-1024-413e-85ad-d6630af768cb",
   "metadata": {},
   "outputs": [
    {
     "name": "stdout",
     "output_type": "stream",
     "text": [
      "Digits found: ['2', '4', '5', '6', '7', '8', '9', '3', '4', '1', '2', '3', '0']\n"
     ]
    }
   ],
   "source": [
    "import re \n",
    "text = \"Order number: 24567, Tracking ID: 8934A12, Quantity: 30\" \n",
    "# Write your regular expression here \n",
    "pattern = r'\\d' \n",
    "matches = re.findall(pattern, text) \n",
    "print(\"Digits found:\", matches)"
   ]
  },
  {
   "cell_type": "code",
   "execution_count": 79,
   "id": "722a5a4a-3a9d-4dfe-9f8a-45a523c5c046",
   "metadata": {},
   "outputs": [
    {
     "name": "stdout",
     "output_type": "stream",
     "text": [
      "Non-alphanumeric characters: ['!', ' ', \"'\", ' ', ' ', ' ', '?', ' ', ' ', ' ', '@', ' ', '.']\n"
     ]
    }
   ],
   "source": [
    "text = \"Welcome! How's your day going? Call me @ 3pm.\" \n",
    "pattern = r'[^a-zA-Z0-9_]'\n",
    "matches = re.findall(pattern, text) \n",
    "print(\"Non-alphanumeric characters:\", matches) "
   ]
  },
  {
   "cell_type": "code",
   "execution_count": 81,
   "id": "addfd0e8-82d1-434b-b157-1819cbbe92d6",
   "metadata": {},
   "outputs": [
    {
     "name": "stdout",
     "output_type": "stream",
     "text": [
      "Split text: [\"Welcome! How's your day going? Call me @ 3pm\", '']\n"
     ]
    }
   ],
   "source": [
    "ext = \"Data Science, AI, and Machine Learning. These fields are growing fast.\" \n",
    "pattern = r'[,.]'\n",
    "split_text = re.split(pattern, text) \n",
    "print(\"Split text:\", split_text) "
   ]
  },
  {
   "cell_type": "code",
   "execution_count": 83,
   "id": "461e0d62-293d-4b6e-983b-a35a6e83eba9",
   "metadata": {},
   "outputs": [
    {
     "name": "stdout",
     "output_type": "stream",
     "text": [
      "Split text: ['Data Science', ' AI', ' and Machine Learning', ' These fields are growing fast', '']\n"
     ]
    }
   ],
   "source": [
    "import re\n",
    "\n",
    "text = \"Data Science, AI, and Machine Learning. These fields are growing fast.\"\n",
    "pattern = r'[,.]'\n",
    "\n",
    "split_text = re.split(pattern, text)\n",
    "print(\"Split text:\", split_text)"
   ]
  },
  {
   "cell_type": "code",
   "execution_count": 89,
   "id": "18842cbd-25d3-4753-b53b-aba8a2d5d24b",
   "metadata": {},
   "outputs": [
    {
     "name": "stdout",
     "output_type": "stream",
     "text": [
      "Anonymized text: Contact us at [HIDDEN] or [HIDDEN]\n"
     ]
    }
   ],
   "source": [
    "text = \"Contact us at support@example.com or info@company.org\" \n",
    "pattern = r'\\S+@\\S+'\n",
    "new_text = re.sub(pattern, \"[HIDDEN]\", text) \n",
    "print(\"Anonymized text:\", new_text) "
   ]
  },
  {
   "cell_type": "code",
   "execution_count": 91,
   "id": "c47b0607-1fe1-4fc4-8d5f-b5cea88b7f27",
   "metadata": {},
   "outputs": [
    {
     "name": "stdout",
     "output_type": "stream",
     "text": [
      "Domain types: ['com', 'edu', 'org']\n"
     ]
    }
   ],
   "source": [
    "text = \"Emails: user@gmail.com, admin@university.edu, info@company.org\" \n",
    "pattern =  r'@\\w+.(\\w+.\\w+)'\n",
    "matches = re.findall(pattern, text) \n",
    "print(\"Domain types:\", matches) "
   ]
  },
  {
   "cell_type": "code",
   "execution_count": null,
   "id": "7377423b-3d25-47c7-8e7a-f30430bd48ca",
   "metadata": {},
   "outputs": [],
   "source": []
  }
 ],
 "metadata": {
  "kernelspec": {
   "display_name": "Python [conda env:base] *",
   "language": "python",
   "name": "conda-base-py"
  },
  "language_info": {
   "codemirror_mode": {
    "name": "ipython",
    "version": 3
   },
   "file_extension": ".py",
   "mimetype": "text/x-python",
   "name": "python",
   "nbconvert_exporter": "python",
   "pygments_lexer": "ipython3",
   "version": "3.12.7"
  }
 },
 "nbformat": 4,
 "nbformat_minor": 5
}
