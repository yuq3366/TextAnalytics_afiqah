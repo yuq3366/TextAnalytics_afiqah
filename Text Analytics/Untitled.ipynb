{
 "cells": [
  {
   "cell_type": "code",
   "execution_count": 5,
   "id": "024311f8-ec0e-4d9f-9d15-ceeb4e62c6f4",
   "metadata": {},
   "outputs": [
    {
     "name": "stdout",
     "output_type": "stream",
     "text": [
      "Raw Text:\n",
      " Hello, this is a sample text file.\n",
      "This is the second line.\n"
     ]
    }
   ],
   "source": [
    "# Read the content of the text file \n",
    "with open('sample.txt', 'r', encoding='utf-8') as file: \n",
    "    text_data = file.read() \n",
    "print(\"Raw Text:\\n\", text_data) \n",
    "# Store in another file \n",
    "with open('stored_text.txt', 'w', encoding='utf-8') as file: \n",
    "    file.write(text_data) "
   ]
  },
  {
   "cell_type": "code",
   "execution_count": 7,
   "id": "80e8eb74-b166-4343-ad56-2b40cf323e9b",
   "metadata": {},
   "outputs": [
    {
     "name": "stdout",
     "output_type": "stream",
     "text": [
      "Reviews:\n",
      " 0    The product is amazing!\n",
      "1     Worst experience ever!\n",
      "Name: Review, dtype: object\n"
     ]
    }
   ],
   "source": [
    "import pandas as pd \n",
    "# Read the CSV file \n",
    "df = pd.read_csv('reviews.csv') \n",
    "print(\"Reviews:\\n\", df['Review'].head()) \n",
    "# Save the reviews column to a text file \n",
    "df['Review'].to_csv('stored_reviews.txt', index=False, header=False) "
   ]
  },
  {
   "cell_type": "code",
   "execution_count": 9,
   "id": "076652a5-f2fe-4f71-8b6e-9ca443d16c2a",
   "metadata": {},
   "outputs": [
    {
     "name": "stdout",
     "output_type": "stream",
     "text": [
      "First two rows:\n",
      "    ID                   Review\n",
      "0   1  The product is amazing!\n",
      "1   2   Worst experience ever!\n"
     ]
    }
   ],
   "source": [
    "# Read the Excel file \n",
    "df_excel = pd.read_excel('reviews.xlsx', engine='openpyxl') \n",
    "print(\"First two rows:\\n\", df_excel.head(2)) \n",
    "# Save the first two rows to a text file \n",
    "df_excel.head(2).to_csv('extracted_excel.txt', index=False)"
   ]
  },
  {
   "cell_type": "code",
   "execution_count": 11,
   "id": "b0b294f3-ffcf-4d12-ab19-70fc59bde780",
   "metadata": {},
   "outputs": [
    {
     "name": "stdout",
     "output_type": "stream",
     "text": [
      "Extracted City: New York\n"
     ]
    }
   ],
   "source": [
    "import json \n",
    " \n",
    "# Read the JSON file \n",
    "with open('social_data.json', 'r', encoding='utf-8') as file: \n",
    "    data = json.load(file) \n",
    "print(\"Extracted City:\", data['city']) \n",
    " \n",
    "# Store the extracted city to a file \n",
    "with open('stored_city.txt', 'w', encoding='utf-8') as file: \n",
    "    file.write(data['city'])"
   ]
  },
  {
   "cell_type": "code",
   "execution_count": 13,
   "id": "89db359f-4ac0-46c3-a51d-ad27f2faf677",
   "metadata": {},
   "outputs": [
    {
     "name": "stdout",
     "output_type": "stream",
     "text": [
      "Extracted Title: AI is transforming industries\n"
     ]
    }
   ],
   "source": []
  },
  {
   "cell_type": "code",
   "execution_count": 15,
   "id": "cf763a7f-c98c-49ed-ac21-568a4deb1776",
   "metadata": {},
   "outputs": [
    {
     "name": "stdout",
     "output_type": "stream",
     "text": [
      "Collecting PyPDF2\n",
      "  Downloading pypdf2-3.0.1-py3-none-any.whl.metadata (6.8 kB)\n",
      "Downloading pypdf2-3.0.1-py3-none-any.whl (232 kB)\n",
      "Installing collected packages: PyPDF2\n",
      "Successfully installed PyPDF2-3.0.1\n",
      "Note: you may need to restart the kernel to use updated packages.\n"
     ]
    }
   ],
   "source": [
    "pip install PyPDF2 "
   ]
  },
  {
   "cell_type": "code",
   "execution_count": 27,
   "id": "7a34d3fb-0b77-49d1-aac1-72ef1cf1b728",
   "metadata": {},
   "outputs": [
    {
     "name": "stdout",
     "output_type": "stream",
     "text": [
      "Extracted PDF Text:\n",
      " Business Proposal  \n",
      "The Revolution is Coming  \n",
      "Leverage agile frameworks to provide a robust synopsis for high level  \n",
      "overviews. Iterative approaches to corporate strategy foster collaborative  \n",
      "thinking to further the overall value proposition. Organically grow the  \n",
      "holistic world view of disruptive innovation via workplace diversity and  \n",
      "empowerment.  \n",
      "Bring to the table win -win survival strategies to ensure proactive  \n",
      "domination. At the end of the day, going forward, a new normal that has  \n",
      "evolved from generation X is on the runway heading towards a streamlined  \n",
      "cloud solution. User generated content in real -time will have multi ple \n",
      "touchpoints for offshoring.  \n",
      "Capitalize on low hanging fruit to identify a ballpark value added activity to  \n",
      "beta test. Override the digital divide with additional clickthroughs from  \n",
      "DevOps. Nanotechnology immersion along the information highway will  \n",
      "close the loop on focusing solely on the bottom line.  \n",
      "Podcasting operational change management inside of workflows to  \n",
      "establish a framework. Taking seamless key performance indicators offline  \n",
      "to maximise the long tail. Keeping your eye on the ball while perfo rming a  \n",
      "deep dive on the start -up mentality to derive convergence on crossplatform  \n",
      "integration.  \n",
      "Collaboratively administrate empowered markets via plug -and-play \n",
      "networks. Dynamically procrastinate B2C users after installed base  \n",
      "benefits. Dramatically visua lize customer directed convergence without  \n",
      "revolutionary ROI.  \n",
      "Efficiently unleash cross -media information without cross -media value.  \n",
      "Quickly maximize timely deliverables for real -time schemas. Dramatically  \n",
      "maintain clicks -and-mortar solutions without funct ional solutio ns. \n",
      "  \n",
      "AUTHORS:  \n",
      "Amy Baker, Finance Chair, x345, abaker@ourcompany.com  \n",
      "Chris Donaldson, Accounting Dir., x621, cdonaldson@ourcompany.com  \n",
      "Erin Freeman, Sr. VP, x879, efreeman@ourcompany.com  \n"
     ]
    }
   ],
   "source": [
    "import PyPDF2 \n",
    "# Read the PDF file \n",
    "with open('Business_Proposal.pdf', 'rb') as file: \n",
    "    reader = PyPDF2.PdfReader(file) \n",
    "    text = \"\\n\".join(page.extract_text() for page in reader.pages if page.extract_text()) \n",
    "# Print the extracted text \n",
    "print(\"Extracted PDF Text:\\n\", text) \n",
    "# Store the extracted text in a file \n",
    "with open('business_proposal_all.txt.', 'w', encoding='utf-8') as output: \n",
    "    output.write(text) "
   ]
  },
  {
   "cell_type": "code",
   "execution_count": 29,
   "id": "fabde234-d361-480a-bec0-1cbc8971743a",
   "metadata": {},
   "outputs": [
    {
     "name": "stdout",
     "output_type": "stream",
     "text": [
      "Extracted PDF Text - Page 2:\n",
      " AUTHORS:  \n",
      "Amy Baker, Finance Chair, x345, abaker@ourcompany.com  \n",
      "Chris Donaldson, Accounting Dir., x621, cdonaldson@ourcompany.com  \n",
      "Erin Freeman, Sr. VP, x879, efreeman@ourcompany.com  \n"
     ]
    }
   ],
   "source": [
    "import PyPDF2\n",
    "\n",
    "# Read the PDF file\n",
    "with open('Business_Proposal.pdf', 'rb') as file:\n",
    "    reader = PyPDF2.PdfReader(file)\n",
    "    \n",
    "    # Extract text from page 2 (index 1 because page numbers are 0-based)\n",
    "    page2_text = reader.pages[1].extract_text()\n",
    "\n",
    "# Print the extracted text from page 2\n",
    "print(\"Extracted PDF Text - Page 2:\\n\", page2_text)\n",
    "\n",
    "# Store the extracted text from page 2 in a file\n",
    "with open('business_proposal_page2.txt', 'w', encoding='utf-8') as output:\n",
    "    output.write(page2_text)\n"
   ]
  },
  {
   "cell_type": "code",
   "execution_count": null,
   "id": "e9dba6b1-8bba-43ea-8d5e-910465518cd8",
   "metadata": {},
   "outputs": [],
   "source": []
  }
 ],
 "metadata": {
  "kernelspec": {
   "display_name": "Python [conda env:base] *",
   "language": "python",
   "name": "conda-base-py"
  },
  "language_info": {
   "codemirror_mode": {
    "name": "ipython",
    "version": 3
   },
   "file_extension": ".py",
   "mimetype": "text/x-python",
   "name": "python",
   "nbconvert_exporter": "python",
   "pygments_lexer": "ipython3",
   "version": "3.12.7"
  }
 },
 "nbformat": 4,
 "nbformat_minor": 5
}
